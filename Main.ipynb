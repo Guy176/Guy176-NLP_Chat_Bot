{
 "cells": [
  {
   "cell_type": "markdown",
   "source": [
    
 

   ],
   "metadata": {
    "collapsed": false
   },
   "id": "5c32b1bcb2c3c9d6"
  },
  {
   "cell_type": "markdown",
   "source": [
    "A function to process the user input for both online and offline modes and returns a df of that file"
   ],
   "metadata": {
    "collapsed": false
   },
   "id": "b27fd01d46667e60"
  },
  {
   "cell_type": "code",
   "outputs": [],
   "source": [
    "def read_chat_input_file(file_path):\n",
    "    data = pd.read_csv(file_path, encoding='latin-1')\n",
    "    return data"
   ],
   "metadata": {
    "collapsed": false,
    "ExecuteTime": {
     "end_time": "2024-04-07T09:28:00.139477Z",
     "start_time": "2024-04-07T09:27:59.962557Z"
    }
   },
   "id": "45aa7ce8a9400d2f",
   "execution_count": 20
  },
  {
   "cell_type": "markdown",
   "source": [
    "counting stopwords in each row of text column\n"
   ],
   "metadata": {
    "collapsed": false
   },
   "id": "d9e373c2579ade0e"
  },
  {
   "cell_type": "code",
   "outputs": [],
   "source": [
    "def count_stopwords(question):\n",
    "    # Tokenize the text\n",
    "    tokens = word_tokenize(question)\n",
    "    stop_words = set(stopwords.words('english'))\n",
    "    # Count the number of stopwords\n",
    "    stopwords_count = sum(1 for word in tokens if word.lower() in stop_words)\n",
    "    return stopwords_count"
   ],
   "metadata": {
    "collapsed": false,
    "ExecuteTime": {
     "end_time": "2024-04-07T09:28:00.178040Z",
     "start_time": "2024-04-07T09:28:00.151485Z"
    }
   },
   "id": "d00fd2d348a2baa7",
   "execution_count": 21
  },
  {
   "cell_type": "markdown",
   "source": [
    "counting all words in each row of text column"
   ],
   "metadata": {
    "collapsed": false
   },
   "id": "313aef0f054f88d9"
  },
  {
   "cell_type": "code",
   "outputs": [],
   "source": [
    "def count_words(question):\n",
    "    tokens = word_tokenize(question)\n",
    "    return len(tokens)"
   ],
   "metadata": {
    "collapsed": false,
    "ExecuteTime": {
     "end_time": "2024-04-07T09:28:00.189420Z",
     "start_time": "2024-04-07T09:28:00.181648Z"
    }
   },
   "id": "7bd0b30b003a0608",
   "execution_count": 22
  },
  {
   "cell_type": "markdown",
   "source": [
    "a function to perform EDA on my custom question dataset"
   ],
   "metadata": {
    "collapsed": false
   },
   "id": "4f83b36d5798d1f7"
  },
  {
   "cell_type": "code",
   "outputs": [],
   "source": [
    "def perform_eda(file_path):\n",
    "    # checking for missing values in our df\n",
    "    df = read_chat_input_file(file_path)\n",
    "    print(\"amount of missing values is: \",df.isna().sum())\n",
    "    # checking basic info about the df\n",
    "    print(df.shape)\n",
    "    #print(\"columns are:\", df.columns)\n",
    "    \n",
    "    #printing text length in each row of our target column\n",
    "    df['text_length'] = df.question.apply(len)\n",
    "    print(df['text_length'].head())\n",
    "    \n",
    "    #distribution of question text length distribution in histogram\n",
    "    plt.figure(figsize=(12, 6))\n",
    "    plt.subplot(1, 2, 1)\n",
    "    df['text_length'].hist(bins=20, color='skyblue', edgecolor='black')\n",
    "    plt.title('Distribution of question Length')\n",
    "    plt.xlabel('Length of question')\n",
    "    plt.ylabel('Count of questions')\n",
    "    plt.show()\n",
    "    \n",
    "    #distribution of my target column in bar plot\n",
    "    class_counts = df['intent'].value_counts()\n",
    "    print(class_counts)\n",
    "    class_counts.plot(kind='bar')\n",
    "    plt.title(\"Intent Classes Distribution\")\n",
    "    plt.xlabel('class (1,book_flight, 2,change_flight, 3,cancel flight, 4,unknown)' )\n",
    "    plt.ylabel('count of each')\n",
    "    plt.xticks(rotation=0)\n",
    "    plt.show()\n",
    "    \n",
    "    # Total stopwords in each row of our target column\n",
    "    stopwords_total_amount = df['question'].apply(count_stopwords)\n",
    "    print(\"Total stop words in each row:\\n\", stopwords_total_amount)\n",
    "    \n",
    "    # All words count in each row of our target column\n",
    "    words_total_amount = df['question'].apply(count_words)\n",
    "    print(\"Total words in each row:\\n\", words_total_amount)"
   ],
   "metadata": {
    "collapsed": false,
    "ExecuteTime": {
     "end_time": "2024-04-07T09:28:00.236150Z",
     "start_time": "2024-04-07T09:28:00.194689Z"
    }
   },
   "id": "d060e5df4f0cab6e",
   "execution_count": 23
  },
  {
   "cell_type": "markdown",
   "source": [
    "chat answer function - it checks what is the next state and writes the corresponding output to the user and returning it"
   ],
   "metadata": {
    "collapsed": false
   },
   "id": "c0b93b615feff990"
  },
  {
   "cell_type": "code",
   "outputs": [],
   "source": [
    "def answer_question(next_state, customer_name):\n",
    "    #initializing output\n",
    "    output = ''\n",
    "    # a set of conditions to give the correct output based on the next state of the state machine\n",
    "    if next_state == 5 or next_state == 6 or next_state == 7:\n",
    "        output = customer_name + \", Thank you, i have performed what you asked! Is there anything else i can help you with today?\"\n",
    "    elif next_state == 1:\n",
    "        output = customer_name + \", where would you like to fly\"\n",
    "    elif next_state == 2:\n",
    "        output = customer_name + \", enter your new destination\"\n",
    "    elif next_state == 3:\n",
    "        output = customer_name + \", enter reason for cancelling\"\n",
    "    elif next_state == 4:\n",
    "        output = customer_name + \", enter dates you want for your flight. Write only in this format: 'Monthname', 'year.' Example: January 1, 2023\"\n",
    "    elif next_state == 0:\n",
    "        output = customer_name + \", Sorry, I did not understand, i can only help with booking, changing or cancelling flight, Please try again\"\n",
    "        \n",
    "    return output"
   ],
   "metadata": {
    "collapsed": false,
    "ExecuteTime": {
     "end_time": "2024-04-07T09:28:00.256851Z",
     "start_time": "2024-04-07T09:28:00.241538Z"
    }
   },
   "id": "df5eb1e58a60c8d7",
   "execution_count": 24
  },
  {
   "cell_type": "markdown",
   "source": [
    "a function to determine the next_state"
   ],
   "metadata": {
    "collapsed": false
   },
   "id": "36e1c07b21d626d1"
  },
  {
   "cell_type": "code",
   "outputs": [],
   "source": [
    "def find_next_state(intent, current_state, entities):\n",
    "    # a set of conditions to figure out what is the next state in the state machine based on the current state and the predicted user intent\n",
    "    if current_state == 7 or current_state == 6 or current_state == 5:\n",
    "        current_state = 0\n",
    "        return find_next_state(intent, current_state, entities)  # Add return here\n",
    "    elif (current_state == 0 or current_state == 7) and intent == 'book_flight':\n",
    "        current_state = 1\n",
    "    elif (current_state == 0 or current_state == 5) and intent == 'change_flight':\n",
    "        current_state = 2\n",
    "    elif (current_state == 0 or current_state == 6) and intent == 'cancel_flight':\n",
    "        current_state = 3\n",
    "    elif current_state == 0 and intent == 'unknown':\n",
    "        current_state = 0 \n",
    "    elif current_state == 1:\n",
    "        # here we check the user input to make sure he entered a destination\n",
    "        if check_if_entity_is_in_user_input(entities, 'GPE'):\n",
    "            current_state = 4\n",
    "        else:\n",
    "            current_state = 1\n",
    "    elif current_state == 4:\n",
    "        # here we check the user input to make sure he entered a correct formatted date\n",
    "        if check_if_entity_is_in_user_input(entities, 'DATE'):\n",
    "            current_state = 7\n",
    "        else:\n",
    "            current_state = 4\n",
    "    elif current_state == 2:\n",
    "        # here we check the user input to make sure he entered a destination\n",
    "        if check_if_entity_is_in_user_input(entities, 'GPE'):\n",
    "            current_state = 5\n",
    "        else:\n",
    "            current_state = 2\n",
    "    elif current_state == 3:\n",
    "        current_state = 6\n",
    "    elif current_state == 0 and intent == 'unknown':\n",
    "        current_state = 0\n",
    "    return current_state  # Return current_state at the end"
   ],
   "metadata": {
    "collapsed": false,
    "ExecuteTime": {
     "end_time": "2024-04-07T09:28:00.280695Z",
     "start_time": "2024-04-07T09:28:00.260826Z"
    }
   },
   "id": "aa3907ef68899c52",
   "execution_count": 25
  },
  {
   "cell_type": "markdown",
   "source": [
    "a function to find the entities in a question and returning them"
   ],
   "metadata": {
    "collapsed": false
   },
   "id": "af7410340c3733c2"
  },
  {
   "cell_type": "code",
   "outputs": [],
   "source": [
    "def find_entities(user_input):\n",
    "    # Load SpaCy's English model\n",
    "    nlp = spacy.load(\"en_core_web_sm\")\n",
    "    # Process the input text to extract named entities\n",
    "    doc = nlp(user_input)\n",
    "    # Initialize an empty list to store the extracted entities\n",
    "    entities = []\n",
    "    # Iterate over the named entities in the processed document\n",
    "    for ent in doc.ents:\n",
    "        # Create a string representation of the named entity, including its text and label\n",
    "        entity_string = f\"{ent.text} ({ent.label_})\"\n",
    "        # Append the entity string to the list of entities\n",
    "        entities.append(entity_string)\n",
    "    # Return the list of extracted entities\n",
    "    return entities"
   ],
   "metadata": {
    "collapsed": false,
    "ExecuteTime": {
     "end_time": "2024-04-07T09:28:00.302481Z",
     "start_time": "2024-04-07T09:28:00.286702Z"
    }
   },
   "id": "678ed63019bd50d",
   "execution_count": 26
  },
  {
   "cell_type": "markdown",
   "source": [
    "a function to turn user question into a df my existing model can work with"
   ],
   "metadata": {
    "collapsed": false
   },
   "id": "cb16893fca5d1589"
  },
  {
   "cell_type": "code",
   "outputs": [],
   "source": [
    "def transform_question(question_string):\n",
    "    # Create a DataFrame with the question column from user question string\n",
    "    df = pd.DataFrame({'question': [question_string]})\n",
    "    return df"
   ],
   "metadata": {
    "collapsed": false,
    "ExecuteTime": {
     "end_time": "2024-04-07T09:28:00.332653Z",
     "start_time": "2024-04-07T09:28:00.309488Z"
    }
   },
   "id": "74cbbf3d6ad5392f",
   "execution_count": 27
  },
  {
   "cell_type": "markdown",
   "source": [
    "a function to find the polarity and sentiment of a question"
   ],
   "metadata": {
    "collapsed": false
   },
   "id": "b2ec2d6884501a41"
  },
  {
   "cell_type": "code",
   "outputs": [],
   "source": [
    "def find_sentiment(user_input):\n",
    "    # Load SpaCy with English model\n",
    "    nlp = spacy.load(\"en_core_web_sm\")\n",
    "    # Add spacytextblob to the pipeline\n",
    "    nlp.add_pipe('spacytextblob')\n",
    "    # Process the text\n",
    "    doc = nlp(user_input)\n",
    "    # Get the sentiment of the text\n",
    "    sentiment = doc._.blob.sentiment\n",
    "    # returning polarity and sentiment\n",
    "    return sentiment"
   ],
   "metadata": {
    "collapsed": false,
    "ExecuteTime": {
     "end_time": "2024-04-07T09:28:00.364679Z",
     "start_time": "2024-04-07T09:28:00.336659Z"
    }
   },
   "id": "4068e6747ba4a23e",
   "execution_count": 28
  },
  {
   "cell_type": "markdown",
   "source": [
    "A function to create my own data set with given intents to train my model on"
   ],
   "metadata": {
    "collapsed": false
   },
   "id": "99ac9a638e20c8cd"
  },
  {
   "cell_type": "code",
   "outputs": [],
   "source": [
    "def create_question_dataset():\n",
    "    # creating a question data set for model training and classification\n",
    "    question_dataset = [\n",
    "        [\"Can you help me find flights to Paris?\", \"book_flight\"],\n",
    "        [\"What are the cheapest flights to Barcelona departing next week?\", \"book_flight\"],\n",
    "        [\"I need to fly round trip from Tel Aviv to Berlin on the 24/12/24?\", \"book_flight\"],\n",
    "        [\"Do you have any non-stop flights from Rome to Budapest?\", \"book_flight\"],\n",
    "        [\"What airlines fly from London to Tel Aviv?\", \"book_flight\"],\n",
    "        [\"Can you find me  a morning flight from Dubai to New York?\", \"book_flight\"],\n",
    "        [\"Can you find flights with a maximum layover of 2 hours?\", \"book_flight\"],\n",
    "        [\"I need a return flight from Tokyo on the 19/6/24, what are my options?\", \"book_flight\"],\n",
    "        [\"Are there any deals on flights to Bucharest departing in June?\", \"book_flight\"],\n",
    "        [\"Can you find me a flight that arrives in Pakistan before noon?\", \"book_flight\"],\n",
    "        [\"What's the cheapest way to get to Israel this weekend?\", \"book_flight\"],\n",
    "        [\"Do you have any red-eye flights departing for Belgium tonight?\", \"book_flight\"],\n",
    "        [\"Can you find me a flight with at least one layover to keep the cost down?\", \"book_flight\"],\n",
    "        [\"What’s the best way to book a flight to Paris?\", \"book_flight\"],\n",
    "        [\"Can you find me direct flights from Barcelona to New York?\", \"book_flight\"],\n",
    "        [\"I want to fly round trip from Tel Aviv to Berlin. What are my options?\", \"book_flight\"],\n",
    "        [\"Are there any non-stop flights from Rome to Budapest?\", \"book_flight\"],\n",
    "        [\"Which airlines operate flights between London and Tel Aviv?\", \"book_flight\"],\n",
    "        [\"Can you find me a morning flight from Dubai to New York?\", \"book_flight\"],\n",
    "        [\"Are there flights with layovers of no more than 2 hours?\", \"book_flight\"],\n",
    "        [\"I need a return flight from Tokyo on June 19th. What are my choices?\", \"book_flight\"],\n",
    "        [\"Are there any flight deals to Bucharest departing in June?\", \"book_flight\"],\n",
    "        [\"Can you find me a flight that arrives in Pakistan before noon?\", \"book_flight\"],\n",
    "        \n",
    "        [\"I want to book a flight from New York to Paris next month?\", \"book_flight\"],\n",
    "        [\"Can you find me flights to London for next weekend?\", \"book_flight\"],\n",
    "        [\"What are the options for flying from Sydney to Tokyo?\", \"book_flight\"],\n",
    "        [\"I need to book a one-way flight from Chicago to Los Angeles.\", \"book_flight\"],\n",
    "        [\"Are there any last-minute flights available to Amsterdam?\", \"book_flight\"],\n",
    "        [\"Can you help me find the best fares for flights to Bangkok?\", \"book_flight\"],\n",
    "        [\"I'm looking for business class flights from Miami to London.\", \"book_flight\"],\n",
    "        [\"What are the flight schedules from Toronto to Vancouver?\", \"book_flight\"],\n",
    "        [\"Can you assist me in booking a flight from Singapore to Hong Kong?\", \"book_flight\"],\n",
    "        [\"I want to book a flight with a layover in Dubai.\", \"book_flight\"],\n",
    "        [\"Are there any budget airlines flying from Los Angeles to San Francisco?\", \"book_flight\"],\n",
    "        [\"Can you find me flights with flexible dates to Madrid?\", \"book_flight\"],\n",
    "        [\"I need to book a flight from Melbourne to Auckland for next week.\", \"book_flight\"],\n",
    "        [\"What are the options for direct flights from Boston to Paris?\", \"book_flight\"],\n",
    "        [\"Can you help me find a flight to Rome that arrives in the morning?\", \"book_flight\"],\n",
    "        [\"I'm looking for flights from Seoul to Beijing with a stopover in Shanghai.\", \"book_flight\"],\n",
    "        [\"What are the prices for round-trip flights from Houston to Cancun?\", \"book_flight\"],\n",
    "        [\"Can you find me flights departing from Frankfurt to Zurich?\", \"book_flight\"],\n",
    "        [\"I want to book a flight to Sydney with a return date two weeks later.\", \"book_flight\"],\n",
    "        [\"Are there any special deals for flights from Dubai to New Delhi?\", \"book_flight\"],\n",
    "\n",
    "\n",
    "        [\"I need to modify my flight booking to Paris. Can you help?\", \"change_flight\"],\n",
    "        [\"Can you assist me in changing my flight to London?\", \"change_flight\"],\n",
    "        [\"I want to alter my flight reservation for next week. Is that possible?\", \"change_flight\"],\n",
    "        [\"My travel plans have changed. How can I update my flight details?\", \"change_flight\"],\n",
    "        [\"I need to adjust the departure date of my flight. How do I do that?\", \"change_flight\"],\n",
    "        [\"Can I switch my flight from economy to business class?\", \"change_flight\"],\n",
    "        [\"I'd like to modify my return flight. What are my options?\", \"change_flight\"],\n",
    "        [\"My flight schedule needs to be changed. What's the process for that?\", \"change_flight\"],\n",
    "        [\"I want to change my flight to an earlier time. Is there availability?\", \"change_flight\"],\n",
    "        [\"Can you help me rearrange my flight itinerary?\", \"change_flight\"],\n",
    "        [\"I need to make amendments to my flight reservation. How can I proceed?\", \"change_flight\"],\n",
    "        [\"I want to change my flight to a different airline. What's the procedure?\", \"change_flight\"],\n",
    "        [\"My flight dates need to be adjusted due to unforeseen circumstances. What should I do?\", \"change_flight\"],\n",
    "        [\"Can you guide me through the process of changing my flight?\", \"change_flight\"],\n",
    "        [\"I need to modify my flight details. Can you provide assistance?\", \"change_flight\"],\n",
    "        [\"I want to change my flight seats. How can I do that?\", \"change_flight\"],\n",
    "        [\"My flight plans have changed. Can you help me reschedule?\", \"change_flight\"],\n",
    "        [\"I'd like to change my flight to a different destination. Is that possible?\", \"change_flight\"],\n",
    "        [\"Can you assist me in changing my flight time?\", \"change_flight\"],\n",
    "        [\"I need to change my flight due to a family emergency. What's the procedure?\", \"change_flight\"],\n",
    "        [\"Can I modify my flight booking online, or do I need to contact customer service?\", \"change_flight\"],\n",
    "        [\"I need to modify my flight booking to Paris. Can you help?\", \"change_flight\"],\n",
    "        \n",
    "        [\"Can you assist me in changing my flight to London?\", \"change_flight\"],\n",
    "        [\"I want to alter my flight reservation for next week. Is that possible?\", \"change_flight\"],\n",
    "        [\"My travel plans have changed. How can I update my flight details?\", \"change_flight\"],\n",
    "        [\"I need to adjust the departure date of my flight. How do I do that?\", \"change_flight\"],\n",
    "        [\"Can I switch my flight from economy to business class?\", \"change_flight\"],\n",
    "        [\"I'd like to modify my return flight. What are my options?\", \"change_flight\"],\n",
    "        [\"My flight schedule needs to be changed. What's the process for that?\", \"change_flight\"],\n",
    "        [\"I want to change my flight to an earlier time. Is there availability?\", \"change_flight\"],\n",
    "        [\"Can you help me rearrange my flight itinerary?\", \"change_flight\"],\n",
    "        [\"I need to make amendments to my flight reservation. How can I proceed?\", \"change_flight\"],\n",
    "        [\"I want to change my flight to a different airline. What's the procedure?\", \"change_flight\"],\n",
    "        [\"My flight dates need to be adjusted due to unforeseen circumstances. What should I do?\", \"change_flight\"],\n",
    "        [\"Can you guide me through the process of changing my flight?\", \"change_flight\"],\n",
    "        [\"I need to modify my flight details. Can you provide assistance?\", \"change_flight\"],\n",
    "        [\"I want to change my flight seats. How can I do that?\", \"change_flight\"],\n",
    "        [\"My flight plans have changed. Can you help me reschedule?\", \"change_flight\"],\n",
    "        [\"I'd like to change my flight to a different destination. Is that possible?\", \"change_flight\"],\n",
    "        [\"Can you assist me in changing my flight time?\", \"change_flight\"],\n",
    "        [\"I need to change my flight due to a family emergency. What's the procedure?\", \"change_flight\"],\n",
    "\n",
    "        [\"I need to cancel my flight to Paris. How can I proceed?\", \"cancel_flight\"],\n",
    "        [\"Can you assist me in canceling my flight reservation?\", \"cancel_flight\"],\n",
    "        [\"I want to cancel my flight for next week. What's the process?\", \"cancel_flight\"],\n",
    "        [\"My travel plans have changed. How do I go about canceling my flight?\", \"cancel_flight\"],\n",
    "        [\"I need to cancel my flight booking. What are the steps I should follow?\", \"cancel_flight\"],\n",
    "        [\"Can you help me with canceling my return flight?\", \"cancel_flight\"],\n",
    "        [\"My flight needs to be canceled due to unforeseen circumstances. What should I do?\", \"cancel_flight\"],\n",
    "        [\"I'd like to cancel my flight and get a refund. Is that possible?\", \"cancel_flight\"],\n",
    "        [\"Can you guide me through the process of canceling my flight reservation?\", \"cancel_flight\"],\n",
    "        [\"I need to cancel my flight due to a medical emergency. How can I proceed?\", \"cancel_flight\"],\n",
    "        [\"Can I cancel my flight online, or do I need to contact customer service?\", \"cancel_flight\"],\n",
    "        [\"My flight plans have changed, and I no longer need to travel. What should I do to cancel?\", \"cancel_flight\"],\n",
    "        [\"I want to cancel my flight and rebook for a later date. What's the procedure?\", \"cancel_flight\"],\n",
    "        [\"Can I cancel my flight and receive a credit for future travel?\", \"cancel_flight\"],\n",
    "        [\"I need to cancel my flight reservation. Can you provide assistance?\", \"cancel_flight\"],\n",
    "        [\"My flight has been canceled by the airline. What are my options?\", \"cancel_flight\"],\n",
    "        [\"I want to cancel my flight due to personal reasons. How do I do that?\", \"cancel_flight\"],\n",
    "        [\"Can you cancel my flight and process a refund to my credit card?\", \"cancel_flight\"],\n",
    "        [\"I'd like to cancel my flight and book with a different airline. How can I proceed?\", \"cancel_flight\"],\n",
    "        [\"My flight schedule has changed, and I need to cancel my booking. What's the protocol?\", \"cancel_flight\"],\n",
    "        [\"Can you cancel my flight and provide me with a confirmation of cancellation?\", \"cancel_flight\"],\n",
    "\n",
    "        [\"I need to cancel my flight to Paris. How can I proceed?\", \"cancel_flight\"],\n",
    "        [\"Can you assist me in canceling my flight reservation?\", \"cancel_flight\"],\n",
    "        [\"I want to cancel my flight for next week. What's the process?\", \"cancel_flight\"],\n",
    "        [\"My travel plans have changed. How do I go about canceling my flight?\", \"cancel_flight\"],\n",
    "        [\"I need to cancel my flight booking. What are the steps I should follow?\", \"cancel_flight\"],\n",
    "        [\"Can you help me with canceling my return flight?\", \"cancel_flight\"],\n",
    "        [\"My flight needs to be canceled due to unforeseen circumstances. What should I do?\", \"cancel_flight\"],\n",
    "        [\"I'd like to cancel my flight and get a refund. Is that possible?\", \"cancel_flight\"],\n",
    "        [\"Can you guide me through the process of canceling my flight reservation?\", \"cancel_flight\"],\n",
    "        [\"I need to cancel my flight due to a medical emergency. How can I proceed?\", \"cancel_flight\"],\n",
    "        [\"Can I cancel my flight online, or do I need to contact customer service?\", \"cancel_flight\"],\n",
    "        [\"My flight plans have changed, and I no longer need to travel. What should I do to cancel?\", \"cancel_flight\"],\n",
    "        [\"I want to cancel my flight and rebook for a later date. What's the procedure?\", \"cancel_flight\"],\n",
    "        [\"Can I cancel my flight and receive a credit for future travel?\", \"cancel_flight\"],\n",
    "        [\"I need to cancel my flight reservation. Can you provide assistance?\", \"cancel_flight\"],\n",
    "        [\"My flight has been canceled by the airline. What are my options?\", \"cancel_flight\"],\n",
    "        [\"I want to cancel my flight due to personal reasons. How do I do that?\", \"cancel_flight\"],\n",
    "        [\"Can you cancel my flight and process a refund to my credit card?\", \"cancel_flight\"],\n",
    "        [\"I'd like to cancel my flight and book with a different airline. How can I proceed?\", \"cancel_flight\"],\n",
    "        [\"My flight schedule has changed, and I need to cancel my booking. What's the protocol?\", \"cancel_flight\"],\n",
    "        \n",
    "        [\"I want to talk to the manager\", \"unknown\"],\n",
    "        [\"I'm not sure about your airline'\", \"unknown\"],\n",
    "        ['My nephew flew with your airline', 'unknown'],\n",
    "        [\"How many bags can I bring on board?\", \"unknown\"],\n",
    "        [\"What are the luggage restrictions?\", \"unknown\"],\n",
    "        [\"Is there a weight limit for carry-on bags?\", \"unknown\"],\n",
    "        [\"Can I bring a personal item along with my carry-on?\", \"unknown\"],\n",
    "        [\"Are there any restrictions on checked baggage?\", \"unknown\"],\n",
    "        [\"What items are prohibited in checked luggage?\", \"unknown\"],\n",
    "        [\"Do you offer baggage tracking services?\", \"unknown\"],\n",
    "        [\"Is there an additional fee for overweight luggage?\", \"unknown\"],\n",
    "        [\"Can I pre-pay for excess baggage?\", \"unknown\"],\n",
    "        [\"Are pets allowed in the cabin?\", \"unknown\"],\n",
    "\n",
    "        [\"I want to talk to the manager\", \"unknown\"],\n",
    "        [\"I'm not sure about your airline'\", \"unknown\"],\n",
    "        ['My nephew flew with your airline', 'unknown'],\n",
    "        [\"How many bags can I bring on board?\", \"unknown\"],\n",
    "        [\"What are the luggage restrictions?\", \"unknown\"],\n",
    "        [\"Is there a weight limit for carry-on bags?\", \"unknown\"],\n",
    "        [\"Can I bring a personal item along with my carry-on?\", \"unknown\"],\n",
    "        [\"Are there any restrictions on checked baggage?\", \"unknown\"],\n",
    "        [\"What items are prohibited in checked luggage?\", \"unknown\"],\n",
    "        [\"Do you offer baggage tracking services?\", \"unknown\"],\n",
    "        [\"Is there an additional fee for overweight luggage?\", \"unknown\"],\n",
    "        [\"Can I pre-pay for excess baggage?\", \"unknown\"],\n",
    "        [\"Are pets allowed in the cabin?\", \"unknown\"],\n",
    "        [\"I'm not sure what documentation I need for my flight\", \"unknown\"],\n",
    "        [\"Can you provide information on the in-flight entertainment?\", \"unknown\"],\n",
    "        [\"What kind of meals are served on the flights?\", \"unknown\"],\n",
    "        [\"Are there any special services for passengers with disabilities?\", \"unknown\"],\n",
    "        [\"Can I change my seat assignment after booking?\", \"unknown\"],\n",
    "        [\"Is there Wi-Fi available on the planes?\", \"unknown\"],\n",
    "        [\"What is the procedure for lost baggage?\", \"unknown\"],\n",
    "        [\"bad airline\",\"unknown\"],\n",
    "        [\"bad service\",\"unknown\"],\n",
    "        [\"I'm dissatisfied with your service\",\"unknown\"]\n",
    "        \n",
    "\n",
    "    ]\n",
    "\n",
    "    # Define the file path where you want to save the CSV file\n",
    "    file_path = 'questions_for_model.csv'\n",
    "\n",
    "    # Write data to the CSV file\n",
    "    with open(file_path, 'w', newline='') as csvfile:\n",
    "        writer = csv.writer(csvfile)\n",
    "        # Write header row\n",
    "        writer.writerow(['question', 'intent'])\n",
    "        # Write dataset rows\n",
    "        writer.writerows(question_dataset)  \n",
    "\n",
    "    print(f\"CSV file '{file_path}' created successfully with {len(question_dataset)} questions.\")"
   ],
   "metadata": {
    "collapsed": false,
    "ExecuteTime": {
     "end_time": "2024-04-07T09:28:00.595136Z",
     "start_time": "2024-04-07T09:28:00.442174Z"
    }
   },
   "id": "f26b597fd871712",
   "execution_count": 29
  },
  {
   "cell_type": "markdown",
   "source": [
    "a function for tokenization of my data and returning the tokenized df"
   ],
   "metadata": {
    "collapsed": false
   },
   "id": "c300fe39b6d08bfb"
  },
  {
   "cell_type": "code",
   "outputs": [],
   "source": [
    "def tokenization(df):\n",
    "    tokenized_df = df.copy()\n",
    "    #Tokenizing data\n",
    "    # splitting each row text into tokens\n",
    "    tokenized_df['tokenized_questions'] = tokenized_df.question.apply(lambda x: x.split())\n",
    "    # removing all characters that are not alphabetic from df\n",
    "    tokenized_df['tokenized_questions'] = tokenized_df['tokenized_questions'].apply(lambda x: [word for word in x if word.isalpha()])\n",
    "    # transforming each row from a list type to a string\n",
    "    tokenized_df['tokenized_questions'] = tokenized_df['tokenized_questions'].apply(lambda x: \" \".join(x))\n",
    "    # using nltk tokenization to remove stopwords\n",
    "    tokenized_df['tokenized_questions'] = tokenized_df['tokenized_questions'].apply(lambda x: ' '.join([word for word in word_tokenize(x) if word.lower() not in set(stopwords.words('english'))]))    \n",
    "    return tokenized_df"
   ],
   "metadata": {
    "collapsed": false,
    "ExecuteTime": {
     "end_time": "2024-04-07T09:28:00.771950Z",
     "start_time": "2024-04-07T09:28:00.743018Z"
    }
   },
   "id": "a3d6b18e50ba1d4b",
   "execution_count": 30
  },
  {
   "cell_type": "markdown",
   "source": [
    "a function for training my model - splitting data to train and test and performing feature extraction and classification"
   ],
   "metadata": {
    "collapsed": false
   },
   "id": "67bb0f5461e2ab19"
  },
  {
   "cell_type": "code",
   "outputs": [],
   "source": [
    "def training_model(df):\n",
    "    #splitting to train and test, performing feature extraction and classification, and fitting my train data\n",
    "    #i use TFIDF for feature extraction, and RF for classification\n",
    "    \n",
    "    # train test splitting \n",
    "    X_train_tfidf_rf, X_test_tfidf_rf, y_train_tfidf_rf, y_test_tfidf_rf = train_test_split(df['tokenized_questions'], df['intent'], test_size=0.2, random_state=42)\n",
    "    \n",
    "    # Creating pipeline with TF-IDF vectorizer and Random Forest classifier\n",
    "    pipeline = Pipeline(steps=[\n",
    "        ('TF_IDF', TfidfVectorizer()),\n",
    "        ('rf', RandomForestClassifier(n_estimators=100, random_state=42))\n",
    "    ])\n",
    "    # Training the model\n",
    "    trained_model = pipeline.fit(X_train_tfidf_rf, y_train_tfidf_rf)\n",
    "    return trained_model"
   ],
   "metadata": {
    "collapsed": false,
    "ExecuteTime": {
     "end_time": "2024-04-07T09:28:00.928944Z",
     "start_time": "2024-04-07T09:28:00.912598Z"
    }
   },
   "id": "1c342988993d4d2",
   "execution_count": 31
  },
  {
   "cell_type": "markdown",
   "source": [
    "a function to write the predicted intent and next state in a new file - this is for the online mode, the offline mode has its own file "
   ],
   "metadata": {
    "collapsed": false
   },
   "id": "c9896c600b414bb"
  },
  {
   "cell_type": "code",
   "outputs": [],
   "source": [
    "def write_intent_and_state(intent, next_state):\n",
    "    file_name = \"intent_and_state.csv\"  # file name\n",
    "    #creating a new file for intent and next state\n",
    "    with open(file_name, mode='a', newline='') as file:\n",
    "        writer = csv.writer(file)\n",
    "        if file.tell() == 0:  # Check if file is empty\n",
    "            # Write column names if file is empty\n",
    "            writer.writerow([\"intent\", \"next_state\"])\n",
    "        # Write intent and next_state\n",
    "        writer.writerow([intent, next_state]) "
   ],
   "metadata": {
    "collapsed": false,
    "ExecuteTime": {
     "end_time": "2024-04-07T09:28:01.076023Z",
     "start_time": "2024-04-07T09:28:01.062452Z"
    }
   },
   "id": "a11f27c0b43bb427",
   "execution_count": 32
  },
  {
   "cell_type": "markdown",
   "source": [
    "a function to process user input for both online and offline modes and extracting the entities, intent, next state, output and polarity from the input and returning them"
   ],
   "metadata": {
    "collapsed": false
   },
   "id": "efd33783f0cd43e8"
  },
  {
   "cell_type": "code",
   "outputs": [],
   "source": [
    "def process_chat_input(user_input, current_state,name):\n",
    "    entities = find_entities(user_input) \n",
    "    processed_user_input = tokenization(transform_question(user_input)) \n",
    "    intent = model.predict(processed_user_input.tokenized_questions)\n",
    "    next_state = find_next_state(intent,current_state, entities)\n",
    "    write_intent_and_state(intent, next_state)\n",
    "    output = answer_question(next_state,name)\n",
    "    sentiment = find_sentiment(user_input) \n",
    "    return output, intent, next_state, entities, sentiment\n"
   ],
   "metadata": {
    "collapsed": false,
    "ExecuteTime": {
     "end_time": "2024-04-07T09:28:01.179503Z",
     "start_time": "2024-04-07T09:28:01.167645Z"
    }
   },
   "id": "310b839b7e5682dc",
   "execution_count": 33
  },
  {
   "cell_type": "markdown",
   "source": [
    "an offline chatbot function to let the user enter his own questions through a file and creating an answers file with all the information the model will conclude from the user."
   ],
   "metadata": {
    "collapsed": false
   },
   "id": "fd0ca7a6723859ec"
  },
  {
   "cell_type": "code",
   "outputs": [],
   "source": [
    "\n",
    "def run_offline_chatbot(file_path):\n",
    "    df = pd.read_csv(file_path)  # Reading the CSV file\n",
    "    responses = []\n",
    "\n",
    "    for index, row in df.iterrows():\n",
    "        current_state = 0  # Resetting current_state for each question\n",
    "        output, intent, next_state, entities, sentiment = process_chat_input(row['question'], current_state, 'Guy')\n",
    "        responses.append({\n",
    "            'output': output,\n",
    "            'intent': intent,\n",
    "            'next_state': next_state,\n",
    "            'entities': entities,\n",
    "            'sentiment': sentiment\n",
    "        })\n",
    "    responses_df = pd.DataFrame(responses, columns=['output', 'intent', 'next_state', 'entities', 'sentiment'])\n",
    "    df = pd.concat([df, responses_df], axis=1)\n",
    "\n",
    "    # Write the DataFrame back to the original CSV file\n",
    "    df.to_csv(file_path, index=False)\n",
    "    return df\n"
   ],
   "metadata": {
    "collapsed": false,
    "ExecuteTime": {
     "end_time": "2024-04-07T09:28:01.278915Z",
     "start_time": "2024-04-07T09:28:01.260068Z"
    }
   },
   "id": "a7243843d1608ad0",
   "execution_count": 34
  },
  {
   "cell_type": "markdown",
   "source": [
    "a function to run the online chatbot using a loop - the user enters one question at a time and answers in real time. The user can exit the chat at any time by inputting \"exit\""
   ],
   "metadata": {
    "collapsed": false
   },
   "id": "6a23ccfa8b55879f"
  },
  {
   "cell_type": "code",
   "outputs": [],
   "source": [
    "def run_online_chatbot():\n",
    "    #initializing the current state\n",
    "    current_state = 0\n",
    "    #initializing the chatbot output\n",
    "    output = 'What can I help you with? I can help you book, change or cancel a flight.\\nwrite \"exit\" if you want to stop chatting'\n",
    "    name = input('What is your name?')\n",
    "    # a loop to process user input and present predictions\n",
    "    while True:       \n",
    "        user_input = input(output)\n",
    "        if str.lower(user_input) == 'exit':\n",
    "            break\n",
    "        print('User: ' + user_input) \n",
    "        output, intent, current_state, entities, sentiment = process_chat_input(user_input, current_state, name)\n",
    "        print(\"The entities the Chatbot found are: \", entities)\n",
    "        print('Chatbot: ' + output)\n",
    "        # here we write the intent and next state into a new file\n",
    "        write_intent_and_state(intent, current_state)"
   ],
   "metadata": {
    "collapsed": false,
    "ExecuteTime": {
     "end_time": "2024-04-07T09:28:01.323623Z",
     "start_time": "2024-04-07T09:28:01.310922Z"
    }
   },
   "id": "79d4de35fcf111ee",
   "execution_count": 35
  },
  {
   "cell_type": "markdown",
   "source": [
    "a function to create a file of question for the offline mode only"
   ],
   "metadata": {
    "collapsed": false
   },
   "id": "139328de9f5018f0"
  },
  {
   "cell_type": "code",
   "outputs": [],
   "source": [
    "def write_user_input_to_csv():\n",
    "    # creating a new file for user questions\n",
    "    file_path = \"user_questions.csv\"\n",
    "    # Prompt the user to enter 5 questions\n",
    "    questions = []\n",
    "    for i in range(5):\n",
    "        question = input(\"Enter question {}: \".format(i + 1))\n",
    "        questions.append(question)\n",
    "\n",
    "    # Write the questions to a CSV file\n",
    "    with open(file_path, \"w\", newline='') as file:\n",
    "        writer = csv.writer(file)\n",
    "        # Write the header row\n",
    "        writer.writerow(['question'])\n",
    "        # Write each question to a new row\n",
    "        for question in questions:\n",
    "            writer.writerow([question])"
   ],
   "metadata": {
    "collapsed": false,
    "ExecuteTime": {
     "end_time": "2024-04-07T09:28:01.382770Z",
     "start_time": "2024-04-07T09:28:01.371759Z"
    }
   },
   "id": "60cb9f92b6986531",
   "execution_count": 36
  },
  {
   "cell_type": "markdown",
   "source": [
    "a function to check user_input validity - checks if contains a certain entity type: GPE or DATE. \n",
    "This is used in find_next state function to check if the user input is valid to move to the next state."
   ],
   "metadata": {
    "collapsed": false
   },
   "id": "8d1abe5fe96cafc6"
  },
  {
   "cell_type": "code",
   "outputs": [],
   "source": [
    "def check_if_entity_is_in_user_input(entities, entity_type):\n",
    "    for entity in entities:\n",
    "        if entity_type in entity:\n",
    "            return True\n",
    "    return False"
   ],
   "metadata": {
    "collapsed": false,
    "ExecuteTime": {
     "end_time": "2024-04-07T09:28:01.455010Z",
     "start_time": "2024-04-07T09:28:01.445872Z"
    }
   },
   "id": "358ab72563be398d",
   "execution_count": 37
  },
  {
   "cell_type": "code",
   "outputs": [
    {
     "name": "stderr",
     "output_type": "stream",
     "text": [
      "[nltk_data] Downloading package stopwords to\n",
      "[nltk_data]     C:\\Users\\guyam\\AppData\\Roaming\\nltk_data...\n",
      "[nltk_data]   Package stopwords is already up-to-date!\n",
      "[nltk_data] Downloading package punkt to\n",
      "[nltk_data]     C:\\Users\\guyam\\AppData\\Roaming\\nltk_data...\n",
      "[nltk_data]   Package punkt is already up-to-date!\n"
     ]
    },
    {
     "name": "stdout",
     "output_type": "stream",
     "text": [
      "CSV file 'questions_for_model.csv' created successfully with 161 questions.\n",
      "amount of missing values is:  question    0\n",
      "intent      0\n",
      "dtype: int64\n",
      "(161, 2)\n",
      "0    38\n",
      "1    63\n",
      "2    65\n",
      "3    55\n",
      "4    42\n",
      "Name: text_length, dtype: int64\n"
     ]
    },
    {
     "data": {
      "text/plain": "<Figure size 1200x600 with 1 Axes>",
      "image/png": "[encoded data removed]"
     },
     "metadata": {},
     "output_type": "display_data"
    },
    {
     "name": "stdout",
     "output_type": "stream",
     "text": [
      "intent\n",
      "book_flight      43\n",
      "change_flight    41\n",
      "cancel_flight    41\n",
      "unknown          36\n",
      "Name: count, dtype: int64\n"
     ]
    },
    {
     "data": {
      "text/plain": "<Figure size 640x480 with 1 Axes>",
      "image/png": "[encoded data removed]"
     },
     "metadata": {},
     "output_type": "display_data"
    },
    {
     "name": "stdout",
     "output_type": "stream",
     "text": [
      "Total stop words in each row:\n",
      " 0      4\n",
      "1      4\n",
      "2      6\n",
      "3      6\n",
      "4      3\n",
      "      ..\n",
      "156    4\n",
      "157    4\n",
      "158    0\n",
      "159    0\n",
      "160    3\n",
      "Name: question, Length: 161, dtype: int64\n",
      "Total words in each row:\n",
      " 0       9\n",
      "1      11\n",
      "2      15\n",
      "3      11\n",
      "4       9\n",
      "       ..\n",
      "156     8\n",
      "157     8\n",
      "158     2\n",
      "159     2\n",
      "160     6\n",
      "Name: question, Length: 161, dtype: int64\n",
      "User: book flight\n",
      "The entities the Chatbot found are:  []\n",
      "Chatbot: Guy, where would you like to fly\n",
      "User: London\n",
      "The entities the Chatbot found are:  ['London (GPE)']\n",
      "Chatbot: Guy, enter dates you want for your flight. Write only in this format: 'Monthname', 'year.' Example: January 1, 2023\n",
      "User: january 1, 2022\n",
      "The entities the Chatbot found are:  ['january 1, 2022 (DATE)']\n",
      "Chatbot: Guy, Thank you, i have performed what you asked! Is there anything else i can help you with today?\n",
      "User: change flight\n",
      "The entities the Chatbot found are:  []\n",
      "Chatbot: Guy, enter your new destination\n",
      "User: berlin\n",
      "The entities the Chatbot found are:  ['berlin (GPE)']\n",
      "Chatbot: Guy, Thank you, i have performed what you asked! Is there anything else i can help you with today?\n",
      "User: cancel flight\n",
      "The entities the Chatbot found are:  []\n",
      "Chatbot: Guy, enter reason for cancelling\n",
      "User: bad service, angry\n",
      "The entities the Chatbot found are:  []\n",
      "Chatbot: Guy, Thank you, i have performed what you asked! Is there anything else i can help you with today?\n",
      "                 question                                             output  \\\n",
      "0             book flight                   Guy, where would you like to fly   \n",
      "1           change flight                    Guy, enter your new destination   \n",
      "2           cancel flight                   Guy, enter reason for cancelling   \n",
      "3  complain about airline  Guy, Sorry, I did not understand, i can only h...   \n",
      "4       book flight angry                   Guy, where would you like to fly   \n",
      "\n",
      "            intent  next_state entities    sentiment  \n",
      "0    [book_flight]           1       []   (0.0, 0.0)  \n",
      "1  [change_flight]           2       []   (0.0, 0.0)  \n",
      "2  [cancel_flight]           3       []   (0.0, 0.0)  \n",
      "3        [unknown]           0       []   (0.0, 0.0)  \n",
      "4    [book_flight]           1       []  (-0.5, 1.0)  \n"
     ]
    }
   ],
   "source": [
    "# downloading and importing required modules for the project\n",
    "!pip install pandas\n",
    "!pip install nltk\n",
    "!pip install spacy\n",
    "!python -m spacy download en_core_web_sm\n",
    "!pip install spacytextblob\n",
    "!pip install matplotlib\n",
    "import pandas as pd\n",
    "import nltk\n",
    "from nltk.corpus import stopwords\n",
    "nltk.download('stopwords')\n",
    "nltk.download('punkt')\n",
    "from nltk import word_tokenize\n",
    "from sklearn.model_selection import train_test_split\n",
    "from sklearn.feature_extraction.text import TfidfVectorizer\n",
    "from sklearn.pipeline import Pipeline\n",
    "from sklearn.ensemble import RandomForestClassifier\n",
    "import csv\n",
    "import spacy\n",
    "import matplotlib.pyplot as plt\n",
    "from spacytextblob.spacytextblob import SpacyTextBlob\n",
    "\n",
    "# creating my question dataset\n",
    "create_question_dataset()\n",
    "df = read_chat_input_file('questions_for_model.csv')\n",
    "\n",
    "#mapping classification and transforming target column\n",
    "mapping = {'book_flight': 1, 'change_flight': 2, 'cancel_flight': 3, 'unknown': 4}\n",
    "df['intent_ID'] = df['intent'].map(lambda x: mapping.get(x))\n",
    "\n",
    "#performing tokenization on my csv file and training it\n",
    "tokenized_df = tokenization(df)\n",
    "model = training_model(tokenized_df)\n",
    "\n",
    "#performing eda on the questions_for_model file to explore it\n",
    "perform_eda('questions_for_model.csv')\n",
    "# starting the online chatbot\n",
    "run_online_chatbot()\n",
    "# creating a new csv file with user input questions for offline mode\n",
    "write_user_input_to_csv()\n",
    "# starting the offline chatbot\n",
    "print(run_offline_chatbot('user_questions.csv'))"
   ],
   "metadata": {
    "collapsed": false,
    "ExecuteTime": {
     "end_time": "2024-04-07T09:29:32.833457Z",
     "start_time": "2024-04-07T09:28:01.683504Z"
    }
   },
   "id": "d83e73fcba236649",
   "execution_count": 38
  }
 ],
 "metadata": {
  "kernelspec": {
   "display_name": "Python 3",
   "language": "python",
   "name": "python3"
  },
  "language_info": {
   "codemirror_mode": {
    "name": "ipython",
    "version": 2
   },
   "file_extension": ".py",
   "mimetype": "text/x-python",
   "name": "python",
   "nbconvert_exporter": "python",
   "pygments_lexer": "ipython2",
   "version": "2.7.6"
  }
 },
 "nbformat": 4,
 "nbformat_minor": 5
}
